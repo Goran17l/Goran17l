{
 "cells": [
  {
   "cell_type": "markdown",
   "id": "c5558991-902f-4191-9220-671dfa558228",
   "metadata": {
    "tags": []
   },
   "source": [
    "# Data Science Tools and Ecosystem"
   ]
  },
  {
   "cell_type": "markdown",
   "id": "163c15d4-b1e7-4969-a462-77bc206ac963",
   "metadata": {
    "tags": []
   },
   "source": [
    "### In this notebook, Data Science Tools and Ecosystem are summarized"
   ]
  },
  {
   "cell_type": "markdown",
   "id": "58d615e3-a333-4e16-8e9e-eeee8c2036b1",
   "metadata": {},
   "source": [
    "### Objectives: \n",
    "* Create a code cell to convert minutes to hours\n",
    "* Inserting a markdown cell to list Objectives\n",
    "* creating a title \n",
    "* List popular languages for Data Science"
   ]
  },
  {
   "cell_type": "markdown",
   "id": "30c2018f-724d-45b2-8311-e251685103da",
   "metadata": {},
   "source": [
    "### Some of the popular languages that Data Scientists use are:\n",
    "\n",
    "1. Python\n",
    "2. R\n",
    "3. SQL\n"
   ]
  },
  {
   "cell_type": "markdown",
   "id": "dcda6a8f-3668-4f3e-95c1-6f59491e518d",
   "metadata": {},
   "source": [
    "### Some of the commonly used libraries used by Data Scientists include:\n",
    "\n",
    "1. NumPy\n",
    "2. Pandas\n",
    "3. Matplotlib\n",
    "4. Scikit-learn\n",
    "5. TensorFlow"
   ]
  },
  {
   "cell_type": "markdown",
   "id": "cf7c7e59-664a-4c8b-b51c-7939a473c691",
   "metadata": {},
   "source": [
    "| Data Science Tools |\n",
    "|-------------------|\n",
    "| Jupyter Notebook  |\n",
    "| RStudio           |\n",
    "| VSCode            | \n"
   ]
  },
  {
   "cell_type": "markdown",
   "id": "777a1a26-0bc7-4878-951c-617627736b2e",
   "metadata": {},
   "source": [
    "### Below are a few examples of evaluating arithmetic expressions in Python"
   ]
  },
  {
   "cell_type": "code",
   "execution_count": 34,
   "id": "7baa96e1-09c7-400e-a034-e016ee0d5593",
   "metadata": {
    "tags": []
   },
   "outputs": [
    {
     "data": {
      "text/plain": [
       "17"
      ]
     },
     "execution_count": 34,
     "metadata": {},
     "output_type": "execute_result"
    }
   ],
   "source": [
    "# This a simple arithmetic expression to mutiply then add integers\n",
    "(3*4)+5"
   ]
  },
  {
   "cell_type": "code",
   "execution_count": 35,
   "id": "17c1b95a-529d-4ec6-9edd-731ac51bec76",
   "metadata": {
    "tags": []
   },
   "outputs": [
    {
     "data": {
      "text/plain": [
       "3.3333333333333335"
      ]
     },
     "execution_count": 35,
     "metadata": {},
     "output_type": "execute_result"
    }
   ],
   "source": [
    "# Number of minutes\n",
    "minutes = 200\n",
    "\n",
    "# Conversion factor\n",
    "minutes_in_an_hour = 60\n",
    "\n",
    "# Convert minutes to hours\n",
    "hours = minutes / minutes_in_an_hour\n",
    "\n",
    "# Display the result\n",
    "hours"
   ]
  },
  {
   "cell_type": "code",
   "execution_count": 36,
   "id": "ba79cf02-6b5f-4157-8c9c-2be5c5e01515",
   "metadata": {
    "tags": []
   },
   "outputs": [
    {
     "data": {
      "text/plain": [
       "3.3333333333333335"
      ]
     },
     "execution_count": 36,
     "metadata": {},
     "output_type": "execute_result"
    }
   ],
   "source": [
    "200/60"
   ]
  },
  {
   "cell_type": "markdown",
   "id": "efcb2cce-86b5-4e8f-83d4-6715f378242f",
   "metadata": {},
   "source": [
    "## Author\n",
    "Goran"
   ]
  }
 ],
 "metadata": {
  "kernelspec": {
   "display_name": "Python 3 (ipykernel)",
   "language": "python",
   "name": "python3"
  },
  "language_info": {
   "codemirror_mode": {
    "name": "ipython",
    "version": 3
   },
   "file_extension": ".py",
   "mimetype": "text/x-python",
   "name": "python",
   "nbconvert_exporter": "python",
   "pygments_lexer": "ipython3",
   "version": "3.11.4"
  }
 },
 "nbformat": 4,
 "nbformat_minor": 5
}
